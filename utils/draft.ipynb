{
 "cells": [
  {
   "cell_type": "code",
   "execution_count": 2,
   "id": "22471edc",
   "metadata": {},
   "outputs": [],
   "source": [
    "from glob import glob"
   ]
  },
  {
   "cell_type": "code",
   "execution_count": 1,
   "id": "95b5d171",
   "metadata": {},
   "outputs": [],
   "source": [
    "# check number of classes in txt files"
   ]
  },
  {
   "cell_type": "code",
   "execution_count": 3,
   "id": "b941bf22",
   "metadata": {},
   "outputs": [],
   "source": [
    "txts = glob('/media/lilit/40c6a091-173a-4b33-b34f-05832ea51559/romote_sensing/object_detection/train/train_split/labels/*.txt')"
   ]
  },
  {
   "cell_type": "code",
   "execution_count": 5,
   "id": "161d7209",
   "metadata": {},
   "outputs": [
    {
     "data": {
      "text/plain": [
       "14348"
      ]
     },
     "execution_count": 5,
     "metadata": {},
     "output_type": "execute_result"
    }
   ],
   "source": [
    "len(txts)"
   ]
  },
  {
   "cell_type": "code",
   "execution_count": 13,
   "id": "5d4f9bb4",
   "metadata": {},
   "outputs": [],
   "source": [
    "all_annots = []\n",
    "for file in txts:\n",
    "    with open(file) as f:\n",
    "        all_annots.extend(f.readlines())"
   ]
  },
  {
   "cell_type": "code",
   "execution_count": 14,
   "id": "ab37aa99",
   "metadata": {},
   "outputs": [
    {
     "data": {
      "text/plain": [
       "181761"
      ]
     },
     "execution_count": 14,
     "metadata": {},
     "output_type": "execute_result"
    }
   ],
   "source": [
    "len(all_annots)"
   ]
  },
  {
   "cell_type": "code",
   "execution_count": 19,
   "id": "ce113246",
   "metadata": {},
   "outputs": [
    {
     "data": {
      "text/plain": [
       "{'0',\n",
       " '1',\n",
       " '10',\n",
       " '11',\n",
       " '12',\n",
       " '13',\n",
       " '14',\n",
       " '2',\n",
       " '3',\n",
       " '4',\n",
       " '5',\n",
       " '6',\n",
       " '7',\n",
       " '8',\n",
       " '9'}"
      ]
     },
     "execution_count": 19,
     "metadata": {},
     "output_type": "execute_result"
    }
   ],
   "source": [
    "# number of all classes\n",
    "set([i.split(' ')[0] for i in all_annots])"
   ]
  }
 ],
 "metadata": {
  "kernelspec": {
   "display_name": "Python 3",
   "language": "python",
   "name": "python3"
  },
  "language_info": {
   "codemirror_mode": {
    "name": "ipython",
    "version": 3
   },
   "file_extension": ".py",
   "mimetype": "text/x-python",
   "name": "python",
   "nbconvert_exporter": "python",
   "pygments_lexer": "ipython3",
   "version": "3.9.5"
  }
 },
 "nbformat": 4,
 "nbformat_minor": 5
}
